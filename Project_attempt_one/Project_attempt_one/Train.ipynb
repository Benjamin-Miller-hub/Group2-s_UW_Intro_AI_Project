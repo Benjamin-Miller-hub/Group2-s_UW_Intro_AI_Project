{
 "cells": [
  {
   "cell_type": "code",
   "execution_count": 1,
   "metadata": {},
   "outputs": [
    {
     "name": "stderr",
     "output_type": "stream",
     "text": [
      "2021-12-08 12:04:20.749507: I tensorflow/stream_executor/platform/default/dso_loader.cc:48] Successfully opened dynamic library libcudart.so.10.1\n"
     ]
    }
   ],
   "source": [
    "\n",
    "\n",
    "\n",
    "import logging\n",
    "import numpy as np\n",
    "\n",
    "import matplotlib.pyplot as plt\n",
    "from importlib import reload\n",
    "import random\n",
    "\n",
    "import tensorflow as tf\n",
    "import importlib\n",
    "import MCAgent as agent\n",
    "import Model as Con4\n",
    "import All_In_One_environment as env\n",
    "from tensorflow.python.client import device_lib\n",
    "from tensorflow.keras.models import Sequential, load_model, Model\n",
    "from tensorflow.keras.layers import Input, Dense, Conv2D, Flatten, BatchNormalization, Activation, LeakyReLU, add\n",
    "from tensorflow.keras.optimizers import Adam\n",
    "from tensorflow.keras import regularizers"
   ]
  },
  {
   "cell_type": "code",
   "execution_count": 8,
   "metadata": {},
   "outputs": [
    {
     "data": {
      "text/plain": [
       "<module 'All_In_One_environment' from '/home/jevans40/AI/AIClass2021/Project/Group2-s_UW_Intro_AI_Project/Project_attempt_one/Project_attempt_one/All_In_One_environment.py'>"
      ]
     },
     "execution_count": 8,
     "metadata": {},
     "output_type": "execute_result"
    }
   ],
   "source": [
    "#local imports reload\n",
    "importlib.reload(agent)\n",
    "importlib.reload(Con4)\n",
    "importlib.reload(env)"
   ]
  },
  {
   "cell_type": "code",
   "execution_count": 3,
   "metadata": {},
   "outputs": [],
   "source": [
    "#settings:\n",
    "#Settings\n",
    "inputDim = (6,7,2)\n",
    "outputDim = (7)\n",
    "filterSize = 20\n",
    "kernelDim = (4,4)\n",
    "convLayers = 4\n",
    "regConst = 0.0001\n",
    "learningRate = 0.001\n",
    "iteration = 1\n",
    "\n",
    "Memory = []"
   ]
  },
  {
   "cell_type": "code",
   "execution_count": 4,
   "metadata": {},
   "outputs": [],
   "source": [
    "def RunTwoAgents(Agent1,Agent2, Games, Verbosity = 0):\n",
    "    memories = []\n",
    "    for game in range(Games):\n",
    "        print(\"Playing game {} out of {}\".format(game,Games))\n",
    "        winner = PlayGame(Agent1,Agent2,Verbosity)\n",
    "        memories += Agent1.GetMemory()\n",
    "        memories += Agent2.GetMemory()\n",
    "        Agent1.ClearMemory()\n",
    "        Agent2.ClearMemory()   \n",
    "\n",
    "        tmp = Agent2\n",
    "        Agent2 = Agent1\n",
    "        Agent1 = tmp\n",
    "    return memories\n",
    "    #Return memory to train on\n",
    "\n",
    "#Verbosity controls how much information to output\n",
    "#0: None\n",
    "#1: Winner/Loser\n",
    "#2: Memory Output\n",
    "def PlayGame(Agent1,Agent2,Verbosity=0):\n",
    "    Agent1.SetPlayer(-1)\n",
    "    Agent2.SetPlayer(1)\n",
    "    done = False\n",
    "    memories = []\n",
    "    newGame = env.ConnectFour(1)\n",
    "    num = random.randint(0,6)\n",
    "    newGame.step(num,1)\n",
    "    while not done:\n",
    "        action = Agent1.GetAction(newGame)\n",
    "        #Add some level of randomness so that we can get more varied cases\n",
    "        nu = np.random.dirichlet([1]*7)/20\n",
    "        action = action + nu\n",
    "        newState,reward,done,info = newGame.step_array(action,Agent1.player)\n",
    "        memories.append(action)\n",
    "        if Verbosity > 1:\n",
    "            print(\"Player -1 took the action\\n{}\".format(action))\n",
    "        if done:\n",
    "            if Verbosity > 0:\n",
    "                print(\"Player -1 has won the game!\")\n",
    "            return -1\n",
    "\n",
    "        action = Agent2.GetAction(newGame)\n",
    "        nu = np.random.dirichlet([1]*7)/20\n",
    "        action = action + nu\n",
    "        newState,reward,done,info = newGame.step_array(action,Agent2.player)\n",
    "        if Verbosity > 1:\n",
    "            print(\"Player 1 took the action\\n{}\".format(action))\n",
    "        if done:\n",
    "            if Verbosity > 0:\n",
    "                print(\"Player 1 has won the game!\")\n",
    "            return 1\n",
    "        if Verbosity > 2:\n",
    "            print(np.array(newGame.get_current_state()).reshape(6,7))\n",
    "    \n",
    "    #Return game result\n",
    "\n",
    "def TrainModel(Memories, toFitAgent):\n",
    "    for i in range(5):\n",
    "        minbatch = random.sample(Memories,min(250,len(Memories)))\n",
    "\n",
    "        trainingStates = np.array([Con4.ReshapeToModel(item[0],item[3]) for item in Memories])\n",
    "        trainingTargets = np.array([item[1] for item in Memories])\n",
    "\n",
    "        fit = toFitAgent.model.fit(trainingStates,trainingTargets,epochs=5,verbose=1,validation_split=0,batch_size = 32)\n",
    "\n",
    "        toFitAgent.model.save(\"ModelCheckPointStart\")\n",
    "    return round(fit.history[\"loss\"][0],4)"
   ]
  },
  {
   "cell_type": "code",
   "execution_count": 5,
   "metadata": {},
   "outputs": [
    {
     "name": "stderr",
     "output_type": "stream",
     "text": [
      "2021-12-08 12:04:32.921412: I tensorflow/stream_executor/platform/default/dso_loader.cc:48] Successfully opened dynamic library libcuda.so.1\n",
      "2021-12-08 12:04:33.831274: E tensorflow/stream_executor/cuda/cuda_gpu_executor.cc:968] could not open file to read NUMA node: /sys/bus/pci/devices/0000:1f:00.0/numa_node\n",
      "Your kernel may have been built without NUMA support.\n",
      "2021-12-08 12:04:33.831446: I tensorflow/core/common_runtime/gpu/gpu_device.cc:1716] Found device 0 with properties: \n",
      "pciBusID: 0000:1f:00.0 name: NVIDIA GeForce RTX 2080 computeCapability: 7.5\n",
      "coreClock: 1.845GHz coreCount: 46 deviceMemorySize: 8.00GiB deviceMemoryBandwidth: 417.23GiB/s\n",
      "2021-12-08 12:04:33.831481: I tensorflow/stream_executor/platform/default/dso_loader.cc:48] Successfully opened dynamic library libcudart.so.10.1\n",
      "2021-12-08 12:04:33.903303: I tensorflow/stream_executor/platform/default/dso_loader.cc:48] Successfully opened dynamic library libcublas.so.10\n",
      "2021-12-08 12:04:33.944287: I tensorflow/stream_executor/platform/default/dso_loader.cc:48] Successfully opened dynamic library libcufft.so.10\n",
      "2021-12-08 12:04:33.954593: I tensorflow/stream_executor/platform/default/dso_loader.cc:48] Successfully opened dynamic library libcurand.so.10\n",
      "2021-12-08 12:04:34.030865: I tensorflow/stream_executor/platform/default/dso_loader.cc:48] Successfully opened dynamic library libcusolver.so.10\n",
      "2021-12-08 12:04:34.041206: I tensorflow/stream_executor/platform/default/dso_loader.cc:48] Successfully opened dynamic library libcusparse.so.10\n",
      "2021-12-08 12:04:34.165685: I tensorflow/stream_executor/platform/default/dso_loader.cc:48] Successfully opened dynamic library libcudnn.so.7\n",
      "2021-12-08 12:04:34.166338: E tensorflow/stream_executor/cuda/cuda_gpu_executor.cc:968] could not open file to read NUMA node: /sys/bus/pci/devices/0000:1f:00.0/numa_node\n",
      "Your kernel may have been built without NUMA support.\n",
      "2021-12-08 12:04:34.166998: E tensorflow/stream_executor/cuda/cuda_gpu_executor.cc:968] could not open file to read NUMA node: /sys/bus/pci/devices/0000:1f:00.0/numa_node\n",
      "Your kernel may have been built without NUMA support.\n",
      "2021-12-08 12:04:34.167149: I tensorflow/core/common_runtime/gpu/gpu_device.cc:1858] Adding visible gpu devices: 0\n",
      "2021-12-08 12:04:34.167735: I tensorflow/core/platform/cpu_feature_guard.cc:142] This TensorFlow binary is optimized with oneAPI Deep Neural Network Library (oneDNN)to use the following CPU instructions in performance-critical operations:  AVX2 FMA\n",
      "To enable them in other operations, rebuild TensorFlow with the appropriate compiler flags.\n",
      "2021-12-08 12:04:34.187464: I tensorflow/core/platform/profile_utils/cpu_utils.cc:104] CPU Frequency: 3700075000 Hz\n",
      "2021-12-08 12:04:34.187921: I tensorflow/compiler/xla/service/service.cc:168] XLA service 0x2074c40 initialized for platform Host (this does not guarantee that XLA will be used). Devices:\n",
      "2021-12-08 12:04:34.187931: I tensorflow/compiler/xla/service/service.cc:176]   StreamExecutor device (0): Host, Default Version\n",
      "2021-12-08 12:04:35.023058: E tensorflow/stream_executor/cuda/cuda_gpu_executor.cc:968] could not open file to read NUMA node: /sys/bus/pci/devices/0000:1f:00.0/numa_node\n",
      "Your kernel may have been built without NUMA support.\n",
      "2021-12-08 12:04:35.023303: I tensorflow/compiler/xla/service/service.cc:168] XLA service 0x47869c0 initialized for platform CUDA (this does not guarantee that XLA will be used). Devices:\n",
      "2021-12-08 12:04:35.023313: I tensorflow/compiler/xla/service/service.cc:176]   StreamExecutor device (0): NVIDIA GeForce RTX 2080, Compute Capability 7.5\n",
      "2021-12-08 12:04:35.025256: E tensorflow/stream_executor/cuda/cuda_gpu_executor.cc:968] could not open file to read NUMA node: /sys/bus/pci/devices/0000:1f:00.0/numa_node\n",
      "Your kernel may have been built without NUMA support.\n",
      "2021-12-08 12:04:35.025460: I tensorflow/core/common_runtime/gpu/gpu_device.cc:1716] Found device 0 with properties: \n",
      "pciBusID: 0000:1f:00.0 name: NVIDIA GeForce RTX 2080 computeCapability: 7.5\n",
      "coreClock: 1.845GHz coreCount: 46 deviceMemorySize: 8.00GiB deviceMemoryBandwidth: 417.23GiB/s\n",
      "2021-12-08 12:04:35.025496: I tensorflow/stream_executor/platform/default/dso_loader.cc:48] Successfully opened dynamic library libcudart.so.10.1\n",
      "2021-12-08 12:04:35.025519: I tensorflow/stream_executor/platform/default/dso_loader.cc:48] Successfully opened dynamic library libcublas.so.10\n",
      "2021-12-08 12:04:35.025529: I tensorflow/stream_executor/platform/default/dso_loader.cc:48] Successfully opened dynamic library libcufft.so.10\n",
      "2021-12-08 12:04:35.025537: I tensorflow/stream_executor/platform/default/dso_loader.cc:48] Successfully opened dynamic library libcurand.so.10\n",
      "2021-12-08 12:04:35.025545: I tensorflow/stream_executor/platform/default/dso_loader.cc:48] Successfully opened dynamic library libcusolver.so.10\n",
      "2021-12-08 12:04:35.025552: I tensorflow/stream_executor/platform/default/dso_loader.cc:48] Successfully opened dynamic library libcusparse.so.10\n",
      "2021-12-08 12:04:35.025560: I tensorflow/stream_executor/platform/default/dso_loader.cc:48] Successfully opened dynamic library libcudnn.so.7\n",
      "2021-12-08 12:04:35.025966: E tensorflow/stream_executor/cuda/cuda_gpu_executor.cc:968] could not open file to read NUMA node: /sys/bus/pci/devices/0000:1f:00.0/numa_node\n",
      "Your kernel may have been built without NUMA support.\n",
      "2021-12-08 12:04:35.026504: E tensorflow/stream_executor/cuda/cuda_gpu_executor.cc:968] could not open file to read NUMA node: /sys/bus/pci/devices/0000:1f:00.0/numa_node\n",
      "Your kernel may have been built without NUMA support.\n",
      "2021-12-08 12:04:35.026660: I tensorflow/core/common_runtime/gpu/gpu_device.cc:1858] Adding visible gpu devices: 0\n",
      "2021-12-08 12:04:35.027683: I tensorflow/stream_executor/platform/default/dso_loader.cc:48] Successfully opened dynamic library libcudart.so.10.1\n",
      "2021-12-08 12:04:36.498420: I tensorflow/core/common_runtime/gpu/gpu_device.cc:1257] Device interconnect StreamExecutor with strength 1 edge matrix:\n",
      "2021-12-08 12:04:36.498449: I tensorflow/core/common_runtime/gpu/gpu_device.cc:1263]      0 \n",
      "2021-12-08 12:04:36.498454: I tensorflow/core/common_runtime/gpu/gpu_device.cc:1276] 0:   N \n",
      "2021-12-08 12:04:36.501135: E tensorflow/stream_executor/cuda/cuda_gpu_executor.cc:968] could not open file to read NUMA node: /sys/bus/pci/devices/0000:1f:00.0/numa_node\n",
      "Your kernel may have been built without NUMA support.\n",
      "2021-12-08 12:04:36.501242: I tensorflow/core/common_runtime/gpu/gpu_device.cc:1485] Could not identify NUMA node of platform GPU id 0, defaulting to 0.  Your kernel may not have been built with NUMA support.\n",
      "2021-12-08 12:04:36.501559: E tensorflow/stream_executor/cuda/cuda_gpu_executor.cc:968] could not open file to read NUMA node: /sys/bus/pci/devices/0000:1f:00.0/numa_node\n",
      "Your kernel may have been built without NUMA support.\n",
      "2021-12-08 12:04:36.501682: I tensorflow/core/common_runtime/gpu/gpu_device.cc:1402] Created TensorFlow device (/job:localhost/replica:0/task:0/device:GPU:0 with 6575 MB memory) -> physical GPU (device: 0, name: NVIDIA GeForce RTX 2080, pci bus id: 0000:1f:00.0, compute capability: 7.5)\n"
     ]
    }
   ],
   "source": [
    "testModel = Con4.CN4Model(inputDim,outputDim,filterSize,kernelDim,regConst,convLayers,learningRate)\n",
    "testModel.InitModel()\n"
   ]
  },
  {
   "cell_type": "code",
   "execution_count": 9,
   "metadata": {},
   "outputs": [],
   "source": [
    "Agent1 = agent.ReinforcementAgent(testModel,-1)\n",
    "Agent2 = agent.ReinforcementAgent(testModel,1)"
   ]
  },
  {
   "cell_type": "code",
   "execution_count": null,
   "metadata": {},
   "outputs": [],
   "source": [
    "Mem = RunTwoAgents(Agent1, Agent2,5, Verbosity=2)\n",
    "print(Mem)"
   ]
  },
  {
   "cell_type": "code",
   "execution_count": null,
   "metadata": {},
   "outputs": [],
   "source": [
    "TrainModel(Mem,testModel)"
   ]
  },
  {
   "cell_type": "code",
   "execution_count": 10,
   "metadata": {},
   "outputs": [
    {
     "name": "stdout",
     "output_type": "stream",
     "text": [
      "Playing game 0 out of 7\n",
      "truth\n",
      "[0.19128847 0.14263221 0.12596594 0.11970318 0.19128847 0.11452521\n",
      " 0.11452521]\n",
      "prediction\n",
      "[0.06823576 0.00589579 0.29920635 0.29525608 0.08007082 0.06724966\n",
      " 0.18408552]\n",
      "truth\n",
      "[0.14750434 0.1411306  0.15003353 0.14245269 0.15084323 0.14750434\n",
      " 0.12048095]\n",
      "prediction\n",
      "[0.0472114  0.04012929 0.23374116 0.2748812  0.08967698 0.21956275\n",
      " 0.0947973 ]\n"
     ]
    }
   ],
   "source": [
    "while True:\n",
    "    Mem = RunTwoAgents(Agent1, Agent2,10, Verbosity=0)\n",
    "    TrainModel(Mem,testModel)"
   ]
  }
 ],
 "metadata": {
  "interpreter": {
   "hash": "916dbcbb3f70747c44a77c7bcd40155683ae19c65e1c03b4aa3499c5328201f1"
  },
  "kernelspec": {
   "display_name": "Python 3.8.10 64-bit",
   "language": "python",
   "name": "python3"
  },
  "language_info": {
   "codemirror_mode": {
    "name": "ipython",
    "version": 3
   },
   "file_extension": ".py",
   "mimetype": "text/x-python",
   "name": "python",
   "nbconvert_exporter": "python",
   "pygments_lexer": "ipython3",
   "version": "3.8.10"
  },
  "orig_nbformat": 4
 },
 "nbformat": 4,
 "nbformat_minor": 2
}
